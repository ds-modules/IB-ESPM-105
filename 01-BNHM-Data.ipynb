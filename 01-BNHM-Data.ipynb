{
 "cells": [
  {
   "cell_type": "code",
   "execution_count": null,
   "metadata": {},
   "outputs": [],
   "source": [
    "%matplotlib inline\n",
    "import os\n",
    "from datetime import datetime\n",
    "from descartes import PolygonPatch\n",
    "import matplotlib as mpl\n",
    "from matplotlib.collections import PatchCollection\n",
    "import matplotlib.pyplot as plt\n",
    "import numpy as np\n",
    "import pandas as pd\n",
    "import requests\n",
    "from shapely import geometry as sg, wkt\n",
    "from scripts.espm_module import CalAdaptRequest, GBIFRequest\n",
    "plt.style.use('seaborn')"
   ]
  },
  {
   "cell_type": "markdown",
   "metadata": {},
   "source": [
    "# ESPM / IB 105\n",
    "\n",
    "The goal of this notebook is to access and integrate diverse data sets to visualize correlations and discover patterns to address questions of species’ responses to environmental change. We will use programmatic tools to show how to use Berkeley resources such as the biodiversity data from biocollections and online databases, field stations, climate models, and other environmental data.\n",
    "\n",
    "Before we begin analyzing and visualizing biodiversity data, this introductory notebook will help familiarize you with the basics of programming in Python. This notebook will cover fundamental Python syntax, Pandas dataframes, and visualization using Matplotlib.\n",
    "\n",
    "## Table of Contents\n",
    "\n",
    "1 - [Introduction to Coding Concepts](#programming concepts)\n",
    "    \n",
    "&nbsp;&nbsp;&nbsp;&nbsp;&nbsp;&nbsp; 1 - [Python Basics](#python basics)\n",
    "\n",
    "&nbsp;&nbsp;&nbsp;&nbsp;&nbsp;&nbsp; 2 - [GBIF API](#pandas)\n",
    "\n",
    "&nbsp;&nbsp;&nbsp;&nbsp;&nbsp;&nbsp; 3 - [Cal-Adapt API](#viz)"
   ]
  },
  {
   "cell_type": "markdown",
   "metadata": {},
   "source": [
    "### Part 1: Python basics <a id='python basics'></a>\n",
    "Before getting into the more advanced analysis techniques that will be required in this course, we need to cover a few of the foundational elements of programming in Python.\n",
    "#### A. Expressions\n",
    "The departure point for all programming is the concept of the __expression__. An expression is a combination of variables, operators, and other Python elements that the language interprets and acts upon. Expressions act as a set of instructions to be fed through the interpreter, with the goal of generating specific outcomes. See below for some examples of basic expressions."
   ]
  },
  {
   "cell_type": "code",
   "execution_count": null,
   "metadata": {},
   "outputs": [],
   "source": [
    "# Examples of expressions:\n",
    "\n",
    "2 + 2\n",
    "\n",
    "'me' + ' and I'\n",
    "\n",
    "12 ** 2\n",
    "\n",
    "6 + 4"
   ]
  },
  {
   "cell_type": "markdown",
   "metadata": {},
   "source": [
    "You will notice that only the last line in a cell gets printed out. If you want to see the values of previous expressions, you need to call `print` on that expression. Try adding `print` statements to some of the above expressions to get them to display."
   ]
  },
  {
   "cell_type": "markdown",
   "metadata": {},
   "source": [
    "#### B. Variables\n",
    "In the example below, `a` and `b` are Python objects known as __variables__. We are giving an object (in this case, an `integer` and a `float`, two Python data types) a name that we can store for later use. To use that value, we can simply type the name that we stored the value as. Variables are stored within the notebook's environment, meaning stored variable values carry over from cell to cell."
   ]
  },
  {
   "cell_type": "code",
   "execution_count": null,
   "metadata": {},
   "outputs": [],
   "source": [
    "a = 4\n",
    "b = 10/5"
   ]
  },
  {
   "cell_type": "markdown",
   "metadata": {},
   "source": [
    "Notice that when you create a variable, unlike what you previously saw with the expressions, it does not print anything out."
   ]
  },
  {
   "cell_type": "code",
   "execution_count": null,
   "metadata": {},
   "outputs": [],
   "source": [
    "# Notice that 'a' retains its value.\n",
    "print(a)\n",
    "a + b"
   ]
  },
  {
   "cell_type": "markdown",
   "metadata": {},
   "source": [
    "#### C. Lists\n",
    "The next topic is particularly useful in the kind of data manipulation that you will see throughout 101B. The following few cells will introduce the concept of __lists__ (and their counterpart, `numpy arrays`). Read through the following cell to understand the basic structure of a list. \n",
    "\n",
    "A list is an ordered collection of objects. They allow us to store and access groups of variables and other objects for easy access and analysis. Check out this [documentation](https://www.tutorialspoint.com/python/python_lists.htm) for an in-depth look at the capabilities of lists.\n",
    "\n",
    "To initialize a list, you use brackets. Putting objects separated by commas in between the brackets will add them to the list. "
   ]
  },
  {
   "cell_type": "code",
   "execution_count": null,
   "metadata": {},
   "outputs": [],
   "source": [
    "# an empty list\n",
    "lst = []\n",
    "print(lst)\n",
    "\n",
    "# reassigning our empty list to a new list\n",
    "lst = [1, 3, 6, 'lists', 'are' 'fun', 4]\n",
    "print(lst)"
   ]
  },
  {
   "cell_type": "markdown",
   "metadata": {},
   "source": [
    "To access a value in the list, put the index of the item you wish to access in brackets following the variable that stores the list. Lists in Python are zero-indexed, so the indicies for `lst` are 0, 1, 2, 3, 4, 5, and 6."
   ]
  },
  {
   "cell_type": "code",
   "execution_count": null,
   "metadata": {},
   "outputs": [],
   "source": [
    "# Elements are selected like this:\n",
    "example = lst[2]\n",
    "\n",
    "# The above line selects the 3rd element of lst (list indices are 0-offset) and sets it to a variable named example.\n",
    "print(example)"
   ]
  },
  {
   "cell_type": "markdown",
   "metadata": {},
   "source": [
    "#### D. Functions\n",
    "\n",
    "So far, you've learnt how to assign variables to certain values. Now, let's learn how we can manipulate some of these values.\n",
    "\n",
    "Let's say we want to perform a certain operation on many different inputs that will produce distinct outputs. What do we do? We write a **_function_**.\n",
    "\n",
    "A function is a block of code which works a lot like a machine: it takes an input, does something to it, and produces an output.\n",
    "\n",
    "The input is put between brackets and can also be called the _argument_ or _parameter_. Functions can have multiple arguments.\n",
    "\n",
    "Try running the cell below after changing the variable _name_:"
   ]
  },
  {
   "cell_type": "code",
   "execution_count": null,
   "metadata": {
    "collapsed": true
   },
   "outputs": [],
   "source": [
    "# Edit this cell to your own name!\n",
    "name = \"John Doe\"\n",
    "\n",
    "# Our function\n",
    "def hello(name):\n",
    "    return \"Hello \" + name + \"!\"\n",
    "\n",
    "hello(name)"
   ]
  },
  {
   "cell_type": "markdown",
   "metadata": {},
   "source": [
    "Interesting, right? Now, you don't need to write 10 different lines with 10 different names to print a special greeting for each person. All you need to is write one function that does all the work for you!\n",
    "\n",
    "Now, let's write our own function. Let's look at the following rules:"
   ]
  },
  {
   "cell_type": "markdown",
   "metadata": {},
   "source": [
    "**Defining**"
   ]
  },
  {
   "cell_type": "markdown",
   "metadata": {},
   "source": [
    "* All functions must start with the \"def\" keyword.\n",
    "* All functions must have a name, followed by parentheses, followed by a colon. Eg. def hello( ):\n",
    "* The parentheses may have a variable that stores its arguments (inputs)\n",
    "* All functions must have a \"return\" statement which will return the output. Think of a function like a machine. When you put something inside, you want it to return something. Hence, this is very important."
   ]
  },
  {
   "cell_type": "markdown",
   "metadata": {},
   "source": [
    "**Calling**"
   ]
  },
  {
   "cell_type": "markdown",
   "metadata": {},
   "source": [
    "After you define a function, it's time to use it. This is known as _calling_ a function.\n",
    "\n",
    "To call a function, simply write the name of the function with your input variable in brackets (argument)."
   ]
  },
  {
   "cell_type": "code",
   "execution_count": null,
   "metadata": {
    "collapsed": true
   },
   "outputs": [],
   "source": [
    "# Complete this function\n",
    "def my_first_function(argument):\n",
    "    return # function must return a value - REPLACE THIS LINE\n",
    "           # have this function return the input\n",
    "\n",
    "name = ... # FILL IN YOUR NAME HERE, in quotes\n",
    "\n",
    "# Calling our function below...\n",
    "my_first_function(name)"
   ]
  },
  {
   "cell_type": "markdown",
   "metadata": {},
   "source": [
    "Great! Now let's do some math. Let's write a function that returns the square of the input.\n",
    "\n",
    "Try writing it from scratch!"
   ]
  },
  {
   "cell_type": "code",
   "execution_count": null,
   "metadata": {
    "collapsed": true
   },
   "outputs": [],
   "source": [
    "# square function \n",
    "def square(num):\n",
    "    return ...   # YOUR CODE HERE\n",
    "\n",
    "# this should output 25!\n",
    "# try inputting different numbers instead of 5 and see what happens\n",
    "square(5)"
   ]
  },
  {
   "cell_type": "markdown",
   "metadata": {},
   "source": [
    "Neat stuff! Try different inputs and check if you get the correct answer each time.\n",
    "\n",
    "You've successfully written your first function from scratch!"
   ]
  },
  {
   "cell_type": "markdown",
   "metadata": {},
   "source": [
    "---\n",
    "\n",
    "# GBIF API\n",
    "\n",
    "The Global Biodiversity Information Facility has created an API that we can use to get data about different species at the [GBIF Web API](http://www.gbif.org/developer/summary). It utilizes pagination to split up the returned JSON records, so we need to request each successive page to gather all the results.\n",
    "\n",
    "Then, we can request the available occurrence records for a particular species and plot their locations. Here we're going to make a request for the species whose scientific name is 'Argia agrioides', also known as the [California dancer](https://www.google.com/search?q=Argia+agrioides&rlz=1C1CHBF_enUS734US734&source=lnms&tbm=isch&sa=X&ved=0ahUKEwji9t29kNTWAhVBymMKHWJ-ANcQ_AUICygC&biw=1536&bih=694). We're going to plot their locations and display other data results. "
   ]
  },
  {
   "cell_type": "code",
   "execution_count": null,
   "metadata": {},
   "outputs": [],
   "source": [
    "req = GBIFRequest()\n",
    "params = {'scientificName': 'Argia agrioides'}\n",
    "pages = req.get_pages(params)\n",
    "# Filter all the returned records for valid locations.\n",
    "records = [rec for page in pages for rec in page['results']\n",
    "           if rec.get('decimalLatitude')]\n",
    "# Make a list of coordinate pairs for plotting.\n",
    "coords = [(r['decimalLongitude'], r['decimalLatitude']) for r in records]\n",
    "xs, ys = zip(*coords)"
   ]
  },
  {
   "cell_type": "markdown",
   "metadata": {},
   "source": [
    "We can then plot the species:"
   ]
  },
  {
   "cell_type": "code",
   "execution_count": null,
   "metadata": {
    "scrolled": false
   },
   "outputs": [],
   "source": [
    "# Make a plot of species' locations below.\n",
    "plt.plot(xs, ys, 'ro', alpha=0.5)"
   ]
  },
  {
   "cell_type": "markdown",
   "metadata": {},
   "source": [
    "For all the reserves, we will need to send a request to GeoJSON, which is a format for encoding a variety of geographic data structures. With this code, we can request GeoJSON for all reserves and plot ocurrences of the species."
   ]
  },
  {
   "cell_type": "code",
   "execution_count": null,
   "metadata": {},
   "outputs": [],
   "source": [
    "# This is the url where are data is located \n",
    "url = 'https://ecoengine.berkeley.edu/api/layers/reserves/features/'\n",
    "# Make a request, which receives data from this url. Then iterate throuh each feature so we can collect data about them.\n",
    "reserves = requests.get(url, params={'page_size': 30}).json()\n",
    "geoms = {feat['properties']['name']: sg.asShape(feat['geometry']) for feat in reserves['features']}"
   ]
  },
  {
   "cell_type": "code",
   "execution_count": null,
   "metadata": {},
   "outputs": [],
   "source": [
    "# Buffer the reserves so we can view them at a regional scale.\n",
    "patches = [PolygonPatch(geom.buffer(0.25)) for geom in geoms.values()]\n",
    "fig, ax = plt.subplots()\n",
    "colors = 100 * np.random.rand(len(patches))\n",
    "p = PatchCollection(patches, cmap='tab10', alpha=0.4)\n",
    "p.set_array(np.array(colors))\n",
    "ax.add_collection(p)\n",
    "ax.autoscale()"
   ]
  },
  {
   "cell_type": "markdown",
   "metadata": {},
   "source": [
    "Let's try and zoom in to the Santa Cruz Island Reserve where we have a single occurrence, and plot it similarly. "
   ]
  },
  {
   "cell_type": "code",
   "execution_count": null,
   "metadata": {},
   "outputs": [],
   "source": [
    "# Collect data about what we want to graph.\n",
    "fig, ax = plt.subplots()\n",
    "g = geoms['Santa Cruz Island Reserve']\n",
    "poly = PolygonPatch(g)\n",
    "ax.add_patch(poly)\n",
    "# Plot a graph representing the Santa Cruz Island Reserve using the data we've accumulated in these variables.\n",
    "ax.plot(xs, ys, 'ro', clip_path=poly)\n",
    "xmin, ymin, xmax, ymax = g.bounds\n",
    "ax.set_xlim(xmin, xmax)\n",
    "ax.set_ylim(ymin, ymax)"
   ]
  },
  {
   "cell_type": "markdown",
   "metadata": {},
   "source": [
    "In the same way, we can parse the WKT geometry for Blodgett, Hopland, and Sagehen stations and plot them individually."
   ]
  },
  {
   "cell_type": "code",
   "execution_count": null,
   "metadata": {},
   "outputs": [],
   "source": [
    "station_urls = {\n",
    "    'Blodgett': 'https://raw.githubusercontent.com/BNHM/spatial-layers/master/wkt/BlodgettForestResearchStation.wkt',\n",
    "    'Hopland': 'https://raw.githubusercontent.com/BNHM/spatial-layers/master/wkt/HoplandREC.wkt',\n",
    "    'Sagehen': 'https://raw.githubusercontent.com/BNHM/spatial-layers/master/wkt/SagehenCreekFieldStation.wkt'\n",
    "}\n",
    "stn_features = [{'id': name, 'geometry': wkt.loads(requests.get(url).text)}\n",
    "                for name, url in station_urls.items()]\n",
    "# Reduce geometric complexity, we need smaller geometry serializations to circumvent \n",
    "# URL length restrictions.\n",
    "tol = .0001\n",
    "for feat in stn_features:\n",
    "    feat['geometry'] = feat['geometry'].buffer(tol).simplify(tol)"
   ]
  },
  {
   "cell_type": "code",
   "execution_count": null,
   "metadata": {},
   "outputs": [],
   "source": [
    "f, axes = plt.subplots(1, len(stn_features))\n",
    "f.set_size_inches((12, 6))\n",
    "\n",
    "# Title our graphs.\n",
    "for ax, feat in zip(axes, stn_features):\n",
    "    ax.add_patch(PolygonPatch(feat['geometry']))\n",
    "    ax.set_title(feat['id'])\n",
    "    ax.autoscale()"
   ]
  },
  {
   "cell_type": "markdown",
   "metadata": {},
   "source": [
    "This will use the [Cal-Adapt](http://api.cal-adapt.org/api/) web API to access a remote raster data source and preview a rendered image. In this case, the data source contains images of locations and temperature information corresponding to each one. "
   ]
  },
  {
   "cell_type": "code",
   "execution_count": null,
   "metadata": {},
   "outputs": [],
   "source": [
    "url = 'http://api.cal-adapt.org/api/series/tasmax_year_CanESM2_rcp85/rasters/'\n",
    "json = requests.get(url).json()\n",
    "tifurl = json['results'][0]['image']\n",
    "title = json['results'][0]['slug']"
   ]
  },
  {
   "cell_type": "code",
   "execution_count": null,
   "metadata": {},
   "outputs": [],
   "source": [
    "import greenwich\n",
    "\n",
    "with greenwich.open(tifurl) as r:\n",
    "    arr = r.masked_array()"
   ]
  },
  {
   "cell_type": "markdown",
   "metadata": {},
   "source": [
    "Now we need to visualize the resulting masked array. The array values are maximum temperature in Kelvin."
   ]
  },
  {
   "cell_type": "code",
   "execution_count": null,
   "metadata": {},
   "outputs": [],
   "source": [
    "# Use Matplotlib to create a color-coded plot of the resulting masked array:\n",
    "plt.imshow(arr, cmap='spectral')\n",
    "plt.title(title)\n",
    "plt.colorbar()"
   ]
  },
  {
   "cell_type": "code",
   "execution_count": null,
   "metadata": {},
   "outputs": [],
   "source": [
    "# Use Matplotlib to plot a histogram (arr should be un-masked here)\n",
    "\n",
    "h = plt.hist(arr.compressed(), 20)"
   ]
  },
  {
   "cell_type": "markdown",
   "metadata": {},
   "source": [
    "---\n",
    "\n",
    "# Cal-Adapt API\n",
    "\n",
    "As we look closer at the Cal-Adapt API, the following will ease working with time series raster data. It will request an entire time series for any geometry and return a Pandas `DataFrame` object. This will make displaying the data much easier with Pandas' built in methods. "
   ]
  },
  {
   "cell_type": "code",
   "execution_count": null,
   "metadata": {},
   "outputs": [],
   "source": [
    "# Creating Pandas dataframe by combining requested time series with records_g\n",
    "req = CalAdaptRequest()\n",
    "records_g = [dict(rec, geometry=sg.Point(rec['decimalLongitude'], rec['decimalLatitude']))\n",
    "             for rec in records]\n",
    "df = req.concat_features(records_g, 'gbifID')"
   ]
  },
  {
   "cell_type": "code",
   "execution_count": null,
   "metadata": {},
   "outputs": [],
   "source": [
    "df.iloc[:,:9].plot()\n",
    "plt.title('Argia agrioides - %s' % req.slug)"
   ]
  },
  {
   "cell_type": "markdown",
   "metadata": {},
   "source": [
    "We can map the projected means for occurrence locations."
   ]
  },
  {
   "cell_type": "code",
   "execution_count": null,
   "metadata": {},
   "outputs": [],
   "source": [
    "tmax_means = df.mean(axis=0)\n",
    "# Filter GBIF records where we have climate data.\n",
    "records_rvals = [rec for rec in records_g if rec['gbifID'] in tmax_means.index]\n",
    "coords = [(r['decimalLongitude'], r['decimalLatitude']) for r in records_rvals]\n",
    "xs2, ys2 = zip(*coords)\n",
    "#plt.scatter(xs2, ys2, c=tmax_means, cmap='viridis', alpha=0.5)\n",
    "norm = mpl.colors.Normalize()\n",
    "size = np.pi * (15 * norm(tmax_means)) ** 2 \n",
    "plt.scatter(xs2, ys2, c=tmax_means, s=size, cmap='viridis', alpha=0.5)\n",
    "plt.colorbar()"
   ]
  },
  {
   "cell_type": "code",
   "execution_count": null,
   "metadata": {},
   "outputs": [],
   "source": [
    "#plt.figure(figsize=(12, 6))\n",
    "df.iloc[:,:7].plot.box()\n",
    "plt.title('Argia agrioides - %s' % req.slug)"
   ]
  },
  {
   "cell_type": "markdown",
   "metadata": {},
   "source": [
    "Taking a look at minimum temperatures now, here are the temperature distributions by decade."
   ]
  },
  {
   "cell_type": "code",
   "execution_count": null,
   "metadata": {},
   "outputs": [],
   "source": [
    "dfs = []\n",
    "names = ('tasmin_year_CanESM2_rcp45', 'tasmin_year_CanESM2_rcp85')\n",
    "for name in names:\n",
    "    req = CalAdaptRequest(name)\n",
    "    dfs.append(req.concat_features(records_g, 'gbifID'))"
   ]
  },
  {
   "cell_type": "code",
   "execution_count": null,
   "metadata": {},
   "outputs": [],
   "source": [
    "for name, df in zip(names, dfs):\n",
    "    t = df.resample('10A').mean().transpose()\n",
    "    t.columns = t.columns.year\n",
    "    t.plot.box()\n",
    "    plt.title(name)"
   ]
  },
  {
   "cell_type": "markdown",
   "metadata": {},
   "source": [
    "Make plots for historical and projected temperatures at three station locations. Once again, Pandas gives us a lot of functionality in displaying our data beautifully. "
   ]
  },
  {
   "cell_type": "code",
   "execution_count": null,
   "metadata": {},
   "outputs": [],
   "source": [
    "dfstns_lst = []\n",
    "names = ('tasmax_year_CanESM2_historical', 'tasmax_year_CanESM2_rcp85')\n",
    "# Iterate through each name and make requests using the CalAdapt API. We can also use Pandas to display this data efficiently.\n",
    "for name in names:\n",
    "    req = CalAdaptRequest(name)\n",
    "    d = req.concat_features(stn_features)\n",
    "    dfstns_lst.append(d)\n",
    "    #d.plot()\n",
    "    #plt.title(name)\n",
    "dfstns = pd.concat(dfstns_lst)"
   ]
  },
  {
   "cell_type": "code",
   "execution_count": null,
   "metadata": {},
   "outputs": [],
   "source": [
    "dfstns.describe()"
   ]
  },
  {
   "cell_type": "code",
   "execution_count": null,
   "metadata": {},
   "outputs": [],
   "source": [
    "dfstns.plot()"
   ]
  },
  {
   "cell_type": "code",
   "execution_count": null,
   "metadata": {},
   "outputs": [],
   "source": [
    "# Decadal average and difference from 20 years prior.\n",
    "dfstns.resample('10A').mean().diff(periods=2).dropna()"
   ]
  },
  {
   "cell_type": "code",
   "execution_count": null,
   "metadata": {},
   "outputs": [],
   "source": [
    "dfstns.resample('10A').mean().diff().plot()"
   ]
  },
  {
   "cell_type": "markdown",
   "metadata": {},
   "source": [
    "Comparing California Oak species:\n",
    "#1 Search on Quercus douglassi (Blue Oak), Quercus lobata (Valley Oak), Quercus durata (Leather Oak), Q. agrifolia (Coast Live Oak) within Bounding box of the field stations. \n",
    "\n",
    "Which field stations have which species? Rerun charting of localities on observed climate to answer: do they all experience the same yearly average maximums and minimums? Which species has the highest max tolerance? Minimum? How does that compare wtih the future climate models for those localities? Which species is predicted to experience the most change in the future?\n",
    "\n",
    "#2 What are the specimens that occurs in Sagehen Creek FS (or any one of the three field stations)? (SCFS most likely to have checklist in Ecoengine...) \n",
    "\n",
    "Use: GBIF API, ecoengine api for checklists (also bigcb.berkeley.edu, although may not be available as web service???)\n",
    "Search GBIF for specimens within the SCFS polygon. Create a unique species list.\n",
    "Compare with the unique documented species list with the checklist species. Which species are expected but not documented? Are there any documented but not on the checklist?\n",
    "\n",
    "What other meaningful spatial data can we intersect with species occurrence? With the field station polygons in order to compare how our field stations sample different habitats and ecoregions?"
   ]
  },
  {
   "cell_type": "code",
   "execution_count": null,
   "metadata": {},
   "outputs": [],
   "source": []
  }
 ],
 "metadata": {
  "anaconda-cloud": {},
  "kernelspec": {
   "display_name": "Python [default]",
   "language": "python",
   "name": "python3"
  },
  "language_info": {
   "codemirror_mode": {
    "name": "ipython",
    "version": 3
   },
   "file_extension": ".py",
   "mimetype": "text/x-python",
   "name": "python",
   "nbconvert_exporter": "python",
   "pygments_lexer": "ipython3",
   "version": "3.5.2"
  }
 },
 "nbformat": 4,
 "nbformat_minor": 1
}
